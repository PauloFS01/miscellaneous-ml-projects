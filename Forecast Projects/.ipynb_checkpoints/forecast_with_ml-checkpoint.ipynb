{
 "cells": [
  {
   "cell_type": "code",
   "execution_count": 2,
   "id": "0393cf76-d478-4dc5-aaa0-77c3fac45eac",
   "metadata": {},
   "outputs": [],
   "source": [
    "import pandas as pd\n",
    "import matplotlib.pyplot as plt\n",
    "from sklearn.linear_model import LinearRegression\n",
    "from sklearn.multioutput import RegressorChain\n",
    "from sklearn.preprocessing import LabelEncoder\n",
    "from xgboost import XGBRegressor"
   ]
  },
  {
   "cell_type": "code",
   "execution_count": 3,
   "id": "aa634d27-d67c-4f3e-9798-c60ab09b8e69",
   "metadata": {},
   "outputs": [],
   "source": [
    "family_sales = pd.read_csv('https://raw.githubusercontent.com/PauloFS01/dataframes/main/family_sales.csv',index_col=False)\n",
    "store_train = pd.read_csv('https://raw.githubusercontent.com/PauloFS01/dataframes/main/store_sales_train.csv',index_col=False)\n",
    "store_test= pd.read_csv('https://raw.githubusercontent.com/PauloFS01/dataframes/main/store_sales_test.csv',index_col=False)"
   ]
  },
  {
   "cell_type": "markdown",
   "id": "aa927e65-45a0-4887-89c6-b62fc3ecb2a3",
   "metadata": {},
   "source": [
    "## Analyze\n",
    "First we will analyze dataset to understand our problem"
   ]
  },
  {
   "cell_type": "code",
   "execution_count": 4,
   "id": "6911dccd-1485-4594-baeb-9772a190b0fd",
   "metadata": {},
   "outputs": [
    {
     "name": "stdout",
     "output_type": "stream",
     "text": [
      "Training Data \n",
      "-------------\n",
      "          store_nbr      family        date  sales  onpromotion\n",
      "0                1  AUTOMOTIVE  2013-01-01    0.0            0\n",
      "1                1  AUTOMOTIVE  2013-01-02    2.0            0\n",
      "2                1  AUTOMOTIVE  2013-01-03    3.0            0\n",
      "3                1  AUTOMOTIVE  2013-01-04    3.0            0\n",
      "4                1  AUTOMOTIVE  2013-01-05    5.0            0\n",
      "...            ...         ...         ...    ...          ...\n",
      "2005868         54     SEAFOOD  2016-01-29    0.0            0\n",
      "2005869         54     SEAFOOD  2016-01-30    1.0            1\n",
      "2005870         54     SEAFOOD  2016-01-31    2.0            0\n",
      "2005871         54     SEAFOOD  2016-02-01    1.0            0\n",
      "2005872         54     SEAFOOD  2016-02-02    0.0            0\n",
      "\n",
      "[2005873 rows x 5 columns]\n",
      "\n",
      "\n",
      "Test Data \n",
      "---------\n",
      "        store_nbr      family        date       id  onpromotion\n",
      "0              1  AUTOMOTIVE  2017-08-16  3000888            0\n",
      "1              1  AUTOMOTIVE  2017-08-17  3002670            0\n",
      "2              1  AUTOMOTIVE  2017-08-18  3004452            0\n",
      "3              1  AUTOMOTIVE  2017-08-19  3006234            0\n",
      "4              1  AUTOMOTIVE  2017-08-20  3008016            0\n",
      "...          ...         ...         ...      ...          ...\n",
      "28507         54     SEAFOOD  2017-08-27  3022139            0\n",
      "28508         54     SEAFOOD  2017-08-28  3023921            0\n",
      "28509         54     SEAFOOD  2017-08-29  3025703            0\n",
      "28510         54     SEAFOOD  2017-08-30  3027485            0\n",
      "28511         54     SEAFOOD  2017-08-31  3029267            0\n",
      "\n",
      "[28512 rows x 5 columns]\n"
     ]
    }
   ],
   "source": [
    "print(\"Training Data\", \"\\n\" + \"-\" * 13 + \"\\n\", store_train)\n",
    "print(\"\\n\")\n",
    "print(\"Test Data\", \"\\n\" + \"-\" * 9 + \"\\n\", store_test)"
   ]
  }
 ],
 "metadata": {
  "kernelspec": {
   "display_name": "Python 3 (ipykernel)",
   "language": "python",
   "name": "python3"
  },
  "language_info": {
   "codemirror_mode": {
    "name": "ipython",
    "version": 3
   },
   "file_extension": ".py",
   "mimetype": "text/x-python",
   "name": "python",
   "nbconvert_exporter": "python",
   "pygments_lexer": "ipython3",
   "version": "3.10.12"
  }
 },
 "nbformat": 4,
 "nbformat_minor": 5
}
