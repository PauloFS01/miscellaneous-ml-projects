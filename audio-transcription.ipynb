{
 "cells": [
  {
   "cell_type": "code",
   "execution_count": 11,
   "id": "06539348-a4d4-43e7-8667-31af9f25213e",
   "metadata": {},
   "outputs": [
    {
     "name": "stdout",
     "output_type": "stream",
     "text": [
      "Defaulting to user installation because normal site-packages is not writeable\n",
      "Collecting git+https://github.com/openai/whisper.git\n",
      "  Cloning https://github.com/openai/whisper.git to /tmp/pip-req-build-m001wjjh\n",
      "  Running command git clone --filter=blob:none --quiet https://github.com/openai/whisper.git /tmp/pip-req-build-m001wjjh\n",
      "  Resolved https://github.com/openai/whisper.git to commit ba3f3cd54b0e5b8ce1ab3de13e32122d0d5f98ab\n",
      "  Installing build dependencies ... \u001b[?25ldone\n",
      "\u001b[?25h  Getting requirements to build wheel ... \u001b[?25ldone\n",
      "\u001b[?25h  Preparing metadata (pyproject.toml) ... \u001b[?25ldone\n",
      "\u001b[?25hRequirement already satisfied: tqdm in /home/p-f-s/.local/lib/python3.10/site-packages (from openai-whisper==20231117) (4.66.2)\n",
      "Requirement already satisfied: triton<3,>=2.0.0 in /home/p-f-s/.local/lib/python3.10/site-packages (from openai-whisper==20231117) (2.2.0)\n",
      "Requirement already satisfied: tiktoken in /home/p-f-s/.local/lib/python3.10/site-packages (from openai-whisper==20231117) (0.6.0)\n",
      "Requirement already satisfied: numba in /home/p-f-s/.local/lib/python3.10/site-packages (from openai-whisper==20231117) (0.59.1)\n",
      "Requirement already satisfied: torch in /home/p-f-s/.local/lib/python3.10/site-packages (from openai-whisper==20231117) (2.2.2)\n",
      "Requirement already satisfied: more-itertools in /usr/lib/python3/dist-packages (from openai-whisper==20231117) (8.10.0)\n",
      "Requirement already satisfied: numpy in /home/p-f-s/.local/lib/python3.10/site-packages (from openai-whisper==20231117) (1.26.4)\n",
      "Requirement already satisfied: filelock in /home/p-f-s/.local/lib/python3.10/site-packages (from triton<3,>=2.0.0->openai-whisper==20231117) (3.13.3)\n",
      "Requirement already satisfied: llvmlite<0.43,>=0.42.0dev0 in /home/p-f-s/.local/lib/python3.10/site-packages (from numba->openai-whisper==20231117) (0.42.0)\n",
      "Requirement already satisfied: requests>=2.26.0 in /home/p-f-s/.local/lib/python3.10/site-packages (from tiktoken->openai-whisper==20231117) (2.31.0)\n",
      "Requirement already satisfied: regex>=2022.1.18 in /home/p-f-s/.local/lib/python3.10/site-packages (from tiktoken->openai-whisper==20231117) (2023.12.25)\n",
      "Requirement already satisfied: nvidia-cuda-cupti-cu12==12.1.105 in /home/p-f-s/.local/lib/python3.10/site-packages (from torch->openai-whisper==20231117) (12.1.105)\n",
      "Requirement already satisfied: nvidia-cudnn-cu12==8.9.2.26 in /home/p-f-s/.local/lib/python3.10/site-packages (from torch->openai-whisper==20231117) (8.9.2.26)\n",
      "Requirement already satisfied: nvidia-nccl-cu12==2.19.3 in /home/p-f-s/.local/lib/python3.10/site-packages (from torch->openai-whisper==20231117) (2.19.3)\n",
      "Requirement already satisfied: nvidia-cuda-runtime-cu12==12.1.105 in /home/p-f-s/.local/lib/python3.10/site-packages (from torch->openai-whisper==20231117) (12.1.105)\n",
      "Requirement already satisfied: sympy in /home/p-f-s/.local/lib/python3.10/site-packages (from torch->openai-whisper==20231117) (1.12)\n",
      "Requirement already satisfied: jinja2 in /home/p-f-s/.local/lib/python3.10/site-packages (from torch->openai-whisper==20231117) (3.1.3)\n",
      "Requirement already satisfied: nvidia-cublas-cu12==12.1.3.1 in /home/p-f-s/.local/lib/python3.10/site-packages (from torch->openai-whisper==20231117) (12.1.3.1)\n",
      "Requirement already satisfied: fsspec in /home/p-f-s/.local/lib/python3.10/site-packages (from torch->openai-whisper==20231117) (2024.3.1)\n",
      "Requirement already satisfied: nvidia-curand-cu12==10.3.2.106 in /home/p-f-s/.local/lib/python3.10/site-packages (from torch->openai-whisper==20231117) (10.3.2.106)\n",
      "Requirement already satisfied: nvidia-nvtx-cu12==12.1.105 in /home/p-f-s/.local/lib/python3.10/site-packages (from torch->openai-whisper==20231117) (12.1.105)\n",
      "Requirement already satisfied: nvidia-cusparse-cu12==12.1.0.106 in /home/p-f-s/.local/lib/python3.10/site-packages (from torch->openai-whisper==20231117) (12.1.0.106)\n",
      "Requirement already satisfied: nvidia-cufft-cu12==11.0.2.54 in /home/p-f-s/.local/lib/python3.10/site-packages (from torch->openai-whisper==20231117) (11.0.2.54)\n",
      "Requirement already satisfied: typing-extensions>=4.8.0 in /home/p-f-s/.local/lib/python3.10/site-packages (from torch->openai-whisper==20231117) (4.10.0)\n",
      "Requirement already satisfied: nvidia-cusolver-cu12==11.4.5.107 in /home/p-f-s/.local/lib/python3.10/site-packages (from torch->openai-whisper==20231117) (11.4.5.107)\n",
      "Requirement already satisfied: networkx in /home/p-f-s/.local/lib/python3.10/site-packages (from torch->openai-whisper==20231117) (3.2.1)\n",
      "Requirement already satisfied: nvidia-cuda-nvrtc-cu12==12.1.105 in /home/p-f-s/.local/lib/python3.10/site-packages (from torch->openai-whisper==20231117) (12.1.105)\n",
      "Requirement already satisfied: nvidia-nvjitlink-cu12 in /home/p-f-s/.local/lib/python3.10/site-packages (from nvidia-cusolver-cu12==11.4.5.107->torch->openai-whisper==20231117) (12.4.99)\n",
      "Requirement already satisfied: urllib3<3,>=1.21.1 in /home/p-f-s/.local/lib/python3.10/site-packages (from requests>=2.26.0->tiktoken->openai-whisper==20231117) (2.2.1)\n",
      "Requirement already satisfied: certifi>=2017.4.17 in /usr/lib/python3/dist-packages (from requests>=2.26.0->tiktoken->openai-whisper==20231117) (2020.6.20)\n",
      "Requirement already satisfied: idna<4,>=2.5 in /usr/lib/python3/dist-packages (from requests>=2.26.0->tiktoken->openai-whisper==20231117) (3.3)\n",
      "Requirement already satisfied: charset-normalizer<4,>=2 in /home/p-f-s/.local/lib/python3.10/site-packages (from requests>=2.26.0->tiktoken->openai-whisper==20231117) (3.3.2)\n",
      "Requirement already satisfied: MarkupSafe>=2.0 in /home/p-f-s/.local/lib/python3.10/site-packages (from jinja2->torch->openai-whisper==20231117) (2.1.5)\n",
      "Requirement already satisfied: mpmath>=0.19 in /home/p-f-s/.local/lib/python3.10/site-packages (from sympy->torch->openai-whisper==20231117) (1.3.0)\n",
      "Defaulting to user installation because normal site-packages is not writeable\n",
      "Requirement already satisfied: yt-dlp in /home/p-f-s/.local/lib/python3.10/site-packages (2024.3.10)\n",
      "Requirement already satisfied: openai in /home/p-f-s/.local/lib/python3.10/site-packages (1.14.3)\n",
      "Requirement already satisfied: certifi in /usr/lib/python3/dist-packages (from yt-dlp) (2020.6.20)\n",
      "Requirement already satisfied: urllib3<3,>=1.26.17 in /home/p-f-s/.local/lib/python3.10/site-packages (from yt-dlp) (2.2.1)\n",
      "Requirement already satisfied: websockets>=12.0 in /home/p-f-s/.local/lib/python3.10/site-packages (from yt-dlp) (12.0)\n",
      "Requirement already satisfied: pycryptodomex in /home/p-f-s/.local/lib/python3.10/site-packages (from yt-dlp) (3.20.0)\n",
      "Requirement already satisfied: requests<3,>=2.31.0 in /home/p-f-s/.local/lib/python3.10/site-packages (from yt-dlp) (2.31.0)\n",
      "Requirement already satisfied: mutagen in /home/p-f-s/.local/lib/python3.10/site-packages (from yt-dlp) (1.47.0)\n",
      "Requirement already satisfied: brotli in /home/p-f-s/.local/lib/python3.10/site-packages (from yt-dlp) (1.1.0)\n",
      "Requirement already satisfied: sniffio in /home/p-f-s/.local/lib/python3.10/site-packages (from openai) (1.3.1)\n",
      "Requirement already satisfied: pydantic<3,>=1.9.0 in /home/p-f-s/.local/lib/python3.10/site-packages (from openai) (2.6.4)\n",
      "Requirement already satisfied: tqdm>4 in /home/p-f-s/.local/lib/python3.10/site-packages (from openai) (4.66.2)\n",
      "Requirement already satisfied: typing-extensions<5,>=4.7 in /home/p-f-s/.local/lib/python3.10/site-packages (from openai) (4.10.0)\n",
      "Requirement already satisfied: httpx<1,>=0.23.0 in /home/p-f-s/.local/lib/python3.10/site-packages (from openai) (0.27.0)\n",
      "Requirement already satisfied: distro<2,>=1.7.0 in /usr/lib/python3/dist-packages (from openai) (1.7.0)\n",
      "Requirement already satisfied: anyio<5,>=3.5.0 in /home/p-f-s/.local/lib/python3.10/site-packages (from openai) (4.3.0)\n",
      "Requirement already satisfied: idna>=2.8 in /usr/lib/python3/dist-packages (from anyio<5,>=3.5.0->openai) (3.3)\n",
      "Requirement already satisfied: exceptiongroup>=1.0.2 in /home/p-f-s/.local/lib/python3.10/site-packages (from anyio<5,>=3.5.0->openai) (1.2.0)\n",
      "Requirement already satisfied: httpcore==1.* in /home/p-f-s/.local/lib/python3.10/site-packages (from httpx<1,>=0.23.0->openai) (1.0.4)\n",
      "Requirement already satisfied: h11<0.15,>=0.13 in /home/p-f-s/.local/lib/python3.10/site-packages (from httpcore==1.*->httpx<1,>=0.23.0->openai) (0.14.0)\n",
      "Requirement already satisfied: pydantic-core==2.16.3 in /home/p-f-s/.local/lib/python3.10/site-packages (from pydantic<3,>=1.9.0->openai) (2.16.3)\n",
      "Requirement already satisfied: annotated-types>=0.4.0 in /home/p-f-s/.local/lib/python3.10/site-packages (from pydantic<3,>=1.9.0->openai) (0.6.0)\n",
      "Requirement already satisfied: charset-normalizer<4,>=2 in /home/p-f-s/.local/lib/python3.10/site-packages (from requests<3,>=2.31.0->yt-dlp) (3.3.2)\n"
     ]
    }
   ],
   "source": [
    "# !pip install git+https://github.com/openai/whisper.git\n",
    "# !pip install yt-dlp openai"
   ]
  },
  {
   "cell_type": "code",
   "execution_count": 54,
   "id": "9a2e1162-d638-43c6-870c-d560074bdfab",
   "metadata": {},
   "outputs": [
    {
     "name": "stdout",
     "output_type": "stream",
     "text": [
      "[youtube] Extracting URL: https://www.youtube.com/watch?v=1ffF77o0EvY&t=117s\n",
      "[youtube] 1ffF77o0EvY: Downloading webpage\n",
      "[youtube] 1ffF77o0EvY: Downloading ios player API JSON\n",
      "[youtube] 1ffF77o0EvY: Downloading android player API JSON\n",
      "[youtube] 1ffF77o0EvY: Downloading m3u8 information\n",
      "[info] 1ffF77o0EvY: Downloading 1 format(s): 251\n",
      "[download] Destination: 1ffF77o0EvY.webm\n",
      "\u001b[K[download] 100% of    5.95MiB in \u001b[1;37m00:00:00\u001b[0m at \u001b[0;32m16.99MiB/s\u001b[0m;33m00:00\u001b[0m0m\n",
      "\u001b[0;31mERROR:\u001b[0m Postprocessing: ffprobe and ffmpeg not found. Please install or provide the path using --ffmpeg-location\n"
     ]
    }
   ],
   "source": [
    "!yt-dlp -x -f bestaudio --audio-format mp3 -o \"%(id)s.%(ext)s\" $\"https://www.youtube.com/watch?v=1ffF77o0EvY&t=117s\""
   ]
  },
  {
   "cell_type": "code",
   "execution_count": 55,
   "id": "c60c5486-de36-4a76-9f8e-225f42e9f43d",
   "metadata": {},
   "outputs": [],
   "source": [
    "import whisper"
   ]
  },
  {
   "cell_type": "code",
   "execution_count": 61,
   "id": "33d741d7-8057-4dea-8921-e6214dce73b6",
   "metadata": {},
   "outputs": [],
   "source": [
    "model = whisper.load_model('tiny')\n",
    "result = model.transcribe('1ffF77o0EvY.mp3')"
   ]
  },
  {
   "cell_type": "code",
   "execution_count": 62,
   "id": "c5335917-e3b8-42ab-8f1f-5d113cbbb1c0",
   "metadata": {},
   "outputs": [],
   "source": [
    "print(f'Result ==> Video: 1ffF77o0EvY  Model: large <==')\n",
    "for sentence in result[\"text\"].split('.'):\n",
    "  print(sentence)"
   ]
  }
 ],
 "metadata": {
  "kernelspec": {
   "display_name": "Python 3 (ipykernel)",
   "language": "python",
   "name": "python3"
  },
  "language_info": {
   "codemirror_mode": {
    "name": "ipython",
    "version": 3
   },
   "file_extension": ".py",
   "mimetype": "text/x-python",
   "name": "python",
   "nbconvert_exporter": "python",
   "pygments_lexer": "ipython3",
   "version": "3.10.12"
  }
 },
 "nbformat": 4,
 "nbformat_minor": 5
}
